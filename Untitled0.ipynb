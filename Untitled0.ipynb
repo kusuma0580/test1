{
  "nbformat": 4,
  "nbformat_minor": 0,
  "metadata": {
    "colab": {
      "name": "Untitled0.ipynb",
      "provenance": [],
      "authorship_tag": "ABX9TyPBo+CwrOcQJsPLJYlRrLWs",
      "include_colab_link": true
    },
    "kernelspec": {
      "name": "python3",
      "display_name": "Python 3"
    },
    "language_info": {
      "name": "python"
    }
  },
  "cells": [
    {
      "cell_type": "markdown",
      "metadata": {
        "id": "view-in-github",
        "colab_type": "text"
      },
      "source": [
        "<a href=\"https://colab.research.google.com/github/kusuma0580/test1/blob/main/Untitled0.ipynb\" target=\"_parent\"><img src=\"https://colab.research.google.com/assets/colab-badge.svg\" alt=\"Open In Colab\"/></a>"
      ]
    },
    {
      "cell_type": "code",
      "metadata": {
        "colab": {
          "base_uri": "https://localhost:8080/"
        },
        "id": "ibFN_Yg5SZyI",
        "outputId": "25349b32-5a3b-4ee1-a931-753bf3df720b"
      },
      "source": [
        "#add two numbers\n",
        "a=int(input())\n",
        "print(a)"
      ],
      "execution_count": 4,
      "outputs": [
        {
          "output_type": "stream",
          "text": [
            "6\n",
            "6\n"
          ],
          "name": "stdout"
        }
      ]
    },
    {
      "cell_type": "code",
      "metadata": {
        "colab": {
          "base_uri": "https://localhost:8080/"
        },
        "id": "7rWhPZTWTdgq",
        "outputId": "4ced94bb-939a-49a0-df1e-a143ca005a1d"
      },
      "source": [
        "#to print factorial of a number\n",
        "n=5\n",
        "fact=1\n",
        "for i in range(1,n+1):\n",
        "  fact*=i\n",
        "print(fact)\n"
      ],
      "execution_count": 5,
      "outputs": [
        {
          "output_type": "stream",
          "text": [
            "120\n"
          ],
          "name": "stdout"
        }
      ]
    },
    {
      "cell_type": "code",
      "metadata": {
        "colab": {
          "base_uri": "https://localhost:8080/"
        },
        "id": "K6wdYULeVSP-",
        "outputId": "adcea288-659d-4fb6-bbca-a96cf34155cc"
      },
      "source": [
        "#to print factorial using function\n",
        "def factorial(n):\n",
        "  factorial=1\n",
        "  for i in range(1,n+1):\n",
        "    factorial*=i\n",
        "  return(factorial)\n",
        "n=5\n",
        "print(factorial(n))\n"
      ],
      "execution_count": 6,
      "outputs": [
        {
          "output_type": "stream",
          "text": [
            "120\n"
          ],
          "name": "stdout"
        }
      ]
    },
    {
      "cell_type": "code",
      "metadata": {
        "colab": {
          "base_uri": "https://localhost:8080/"
        },
        "id": "b9QjgjL5WpPr",
        "outputId": "04b88f1d-807b-44e7-8d40-69ff441bc124"
      },
      "source": [
        "#to print factorial using recursion\n",
        "def recursion_fact(n):\n",
        "  if n==1:\n",
        "    return n\n",
        "  elif n!=1:\n",
        "    return n*recursion_fact(n-1)\n",
        "n=5\n",
        "print(recursion_fact(n))"
      ],
      "execution_count": 7,
      "outputs": [
        {
          "output_type": "stream",
          "text": [
            "120\n"
          ],
          "name": "stdout"
        }
      ]
    }
  ]
}