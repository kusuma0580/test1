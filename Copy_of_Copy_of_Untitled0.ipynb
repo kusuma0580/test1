{
  "nbformat": 4,
  "nbformat_minor": 0,
  "metadata": {
    "colab": {
      "name": "Copy of Copy of Untitled0.ipynb",
      "provenance": [],
      "authorship_tag": "ABX9TyMSE36NHIVxLwxtjkupNZ/5",
      "include_colab_link": true
    },
    "kernelspec": {
      "name": "python3",
      "display_name": "Python 3"
    },
    "language_info": {
      "name": "python"
    }
  },
  "cells": [
    {
      "cell_type": "markdown",
      "metadata": {
        "id": "view-in-github",
        "colab_type": "text"
      },
      "source": [
        "<a href=\"https://colab.research.google.com/github/kusuma0580/test1/blob/main/Copy_of_Copy_of_Untitled0.ipynb\" target=\"_parent\"><img src=\"https://colab.research.google.com/assets/colab-badge.svg\" alt=\"Open In Colab\"/></a>"
      ]
    },
    {
      "cell_type": "code",
      "metadata": {
        "colab": {
          "base_uri": "https://localhost:8080/"
        },
        "id": "7rWhPZTWTdgq",
        "outputId": "4ced94bb-939a-49a0-df1e-a143ca005a1d"
      },
      "source": [
        "#to print factorial of a number\n",
        "n=5\n",
        "fact=1\n",
        "for i in range(1,n+1):\n",
        "  fact*=i\n",
        "print(fact)\n"
      ],
      "execution_count": null,
      "outputs": [
        {
          "output_type": "stream",
          "text": [
            "120\n"
          ],
          "name": "stdout"
        }
      ]
    },
    {
      "cell_type": "code",
      "metadata": {
        "colab": {
          "base_uri": "https://localhost:8080/"
        },
        "id": "K6wdYULeVSP-",
        "outputId": "adcea288-659d-4fb6-bbca-a96cf34155cc"
      },
      "source": [
        "#to print factorial using function\n",
        "def factorial(n):\n",
        "  factorial=1\n",
        "  for i in range(1,n+1):\n",
        "    factorial*=i\n",
        "  return(factorial)\n",
        "n=5\n",
        "print(factorial(n))\n"
      ],
      "execution_count": null,
      "outputs": [
        {
          "output_type": "stream",
          "text": [
            "120\n"
          ],
          "name": "stdout"
        }
      ]
    },
    {
      "cell_type": "code",
      "metadata": {
        "colab": {
          "base_uri": "https://localhost:8080/"
        },
        "id": "b9QjgjL5WpPr",
        "outputId": "04b88f1d-807b-44e7-8d40-69ff441bc124"
      },
      "source": [
        "#to print factorial using recursion\n",
        "def recursion_fact(n):\n",
        "  if n==1:\n",
        "    return n\n",
        "  elif n!=1:\n",
        "    return n*recursion_fact(n-1)\n",
        "n=5\n",
        "print(recursion_fact(n))"
      ],
      "execution_count": null,
      "outputs": [
        {
          "output_type": "stream",
          "text": [
            "120\n"
          ],
          "name": "stdout"
        }
      ]
    },
    {
      "cell_type": "code",
      "metadata": {
        "colab": {
          "base_uri": "https://localhost:8080/"
        },
        "id": "J9C7D1OrCR8U",
        "outputId": "e7527ff6-7357-4332-b1e8-33b407734574"
      },
      "source": [
        "#to print factorial of a number by importing math function\n",
        "import math\n",
        "print(math.factorial(5))"
      ],
      "execution_count": 1,
      "outputs": [
        {
          "output_type": "stream",
          "text": [
            "120\n"
          ],
          "name": "stdout"
        }
      ]
    },
    {
      "cell_type": "markdown",
      "metadata": {
        "id": "IaTn9mNuC_Ao"
      },
      "source": [
        "*These are different ways to find the factorial of a number."
      ]
    }
  ]
}